{
 "cells": [
  {
   "attachments": {},
   "cell_type": "markdown",
   "metadata": {},
   "source": [
    "# Scrape BOE agendas\n",
    "\n",
    "This notebook scrapes the agendas for the Shelby County Board of Education and pulls out \n",
    "the motions that were voted on."
   ]
  },
  {
   "cell_type": "code",
   "execution_count": 1,
   "metadata": {},
   "outputs": [],
   "source": [
    "import os\n",
    "from dataclasses import dataclass\n",
    "from time import sleep\n",
    "\n",
    "import pandas as pd\n",
    "from selenium import webdriver\n",
    "from selenium.common.exceptions import (StaleElementReferenceException,\n",
    "                                        TimeoutException)\n",
    "from selenium.webdriver.chrome.options import Options\n",
    "from selenium.webdriver.common.by import By\n",
    "from selenium.webdriver.support import expected_conditions as EC\n",
    "from selenium.webdriver.support.ui import WebDriverWait\n",
    "from tqdm import tqdm"
   ]
  },
  {
   "cell_type": "code",
   "execution_count": 2,
   "metadata": {},
   "outputs": [],
   "source": [
    "# My chromium driver isn't in PATH, for some reason\n",
    "\n",
    "os.environ['PATH'] += ':/opt/homebrew/bin'"
   ]
  },
  {
   "cell_type": "code",
   "execution_count": 13,
   "metadata": {},
   "outputs": [],
   "source": [
    "@dataclass\n",
    "class Motion:\n",
    "    \"\"\"A dataclass to store a motion.\"\"\"\n",
    "    date: str\n",
    "    meeting_title: str\n",
    "    action: str\n",
    "    motion: str\n",
    "\n",
    "\n",
    "motions = []\n",
    "meetings_scanned = set()  # Save the meetings we've already scanned\n",
    "# so that when we encounter an error, we don't have to start from the beginning"
   ]
  },
  {
   "cell_type": "code",
   "execution_count": 9,
   "metadata": {},
   "outputs": [
    {
     "name": "stderr",
     "output_type": "stream",
     "text": [
      "/var/folders/w_/h74dflfj09b437rgp1kw0ykw0000gq/T/ipykernel_31423/2861343115.py:2: DeprecationWarning: headless property is deprecated, instead use add_argument('--headless') or add_argument('--headless=new')\n",
      "  options.headless = True\n"
     ]
    }
   ],
   "source": [
    "# Start a Selenium driver and navigate to the BOE page\n",
    "options = Options()\n",
    "options.headless = True\n",
    "options.add_argument(\"--window-size=1920,1200\")\n",
    "\n",
    "driver = webdriver.Chrome(options=options)\n",
    "driver.get('https://go.boarddocs.com/tn/scsk12/Board.nsf/Public')\n",
    "wait = WebDriverWait(driver, 4)"
   ]
  },
  {
   "cell_type": "code",
   "execution_count": 19,
   "metadata": {},
   "outputs": [],
   "source": [
    "# Wait for the BOE page to load and navigate to the Meetings tab\n",
    "wait.until(EC.visibility_of_element_located((By.LINK_TEXT, 'MEETINGS')))\n",
    "meetings_button = driver.find_element(By.LINK_TEXT, 'MEETINGS')\n",
    "meetings_button.click()"
   ]
  },
  {
   "cell_type": "code",
   "execution_count": 28,
   "metadata": {},
   "outputs": [
    {
     "name": "stderr",
     "output_type": "stream",
     "text": [
      "2018: 100%|██████████| 65/65 [00:10<00:00,  6.49it/s]\n",
      "2019: 100%|██████████| 62/62 [00:09<00:00,  6.69it/s]\n",
      "2020: 100%|██████████| 84/84 [02:35<00:00,  1.85s/it]\n",
      "2021: 100%|██████████| 80/80 [02:32<00:00,  1.91s/it]\n",
      "2022: 100%|██████████| 77/77 [03:31<00:00,  2.75s/it]\n"
     ]
    }
   ],
   "source": [
    "# Iterate through the years of meetings\n",
    "meetings_button.click()\n",
    "\n",
    "for year in '2018', '2019', '2020', '2021', '2022':\n",
    "    # For each year, identify and interate through the meetings\n",
    "    driver.find_element(By.LINK_TEXT, year).click()\n",
    "    sleep(0.5)\n",
    "    meeting_titles = []\n",
    "    for link in driver.find_elements(By.TAG_NAME, 'a'):\n",
    "        if 'Meeting' in link.text and link.text not in meetings_scanned:\n",
    "            meeting_titles.append(link.text)\n",
    "\n",
    "    for meeting_name in tqdm(meeting_titles, desc=year):\n",
    "        # Navigate to the meeting\n",
    "        link = driver.find_element(By.LINK_TEXT, meeting_name)\n",
    "        link.location_once_scrolled_into_view\n",
    "        link.click()\n",
    "        date, meeting_title = meeting_name.split('\\n')\n",
    "        if 'Committee' in meeting_title:\n",
    "            continue\n",
    "        # wait until the View Agenda button is visible\n",
    "        sleep(0.1)\n",
    "        wait.until(\n",
    "            EC.visibility_of_element_located(\n",
    "                (By.LINK_TEXT, 'View the\\nAgenda')))\n",
    "        sleep(0.1)\n",
    "        try:\n",
    "            driver.find_element(By.LINK_TEXT, 'View the\\nAgenda').click()\n",
    "        except StaleElementReferenceException:\n",
    "            sleep(0.1)\n",
    "            driver.find_element(By.LINK_TEXT, 'View the\\nAgenda').click()\n",
    "\n",
    "        try:\n",
    "            wait.until(\n",
    "                EC.visibility_of_element_located(\n",
    "                    (By.CLASS_NAME, \"type-action\")))\n",
    "        except TimeoutException:  # no actions in this meeting\n",
    "            meetings_button.click()\n",
    "            meetings_scanned.add(meeting_name)\n",
    "            continue\n",
    "        sleep(0.1)\n",
    "\n",
    "        # Iterate through the meeeting items with actions and save the motions\n",
    "        for action in driver.find_elements(By.CLASS_NAME, \"type-action\"):\n",
    "            action.location_once_scrolled_into_view\n",
    "            if 'REMOVED' in action.text:\n",
    "                continue\n",
    "            action.click()\n",
    "            try:\n",
    "                while motion.is_displayed():\n",
    "                    sleep(0.01)  # wait for an old motion to go away\n",
    "            except:\n",
    "                pass\n",
    "            try:\n",
    "                wait.until(\n",
    "                    EC.visibility_of_element_located(\n",
    "                        (By.CLASS_NAME, 'motions')))\n",
    "            except TimeoutException:  # no motion this action\n",
    "                continue\n",
    "\n",
    "            motion = driver.find_element(By.CLASS_NAME, 'motions')\n",
    "            motions.append(\n",
    "                Motion(date, meeting_title, action.text, motion.text))\n",
    "        # Record that a meeting has been scanned so that we can skip it if we have to restart\n",
    "        meetings_scanned.add(meeting_name)\n",
    "        meetings_button.click()"
   ]
  },
  {
   "cell_type": "code",
   "execution_count": 31,
   "metadata": {},
   "outputs": [],
   "source": [
    "# Save the motions to a CSV\n",
    "pd.DataFrame(motions).drop_duplicates().to_csv('boe-motions.csv', index=False)"
   ]
  },
  {
   "cell_type": "code",
   "execution_count": null,
   "metadata": {},
   "outputs": [],
   "source": []
  }
 ],
 "metadata": {
  "kernelspec": {
   "display_name": "Python 3",
   "language": "python",
   "name": "python3"
  },
  "language_info": {
   "codemirror_mode": {
    "name": "ipython",
    "version": 3
   },
   "file_extension": ".py",
   "mimetype": "text/x-python",
   "name": "python",
   "nbconvert_exporter": "python",
   "pygments_lexer": "ipython3",
   "version": "3.9.11"
  },
  "orig_nbformat": 4
 },
 "nbformat": 4,
 "nbformat_minor": 2
}
