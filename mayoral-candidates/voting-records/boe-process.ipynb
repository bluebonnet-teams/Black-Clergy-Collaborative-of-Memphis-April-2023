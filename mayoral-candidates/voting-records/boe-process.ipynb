{
 "cells": [
  {
   "attachments": {},
   "cell_type": "markdown",
   "metadata": {},
   "source": [
    "# Process Board of Education Motions\n",
    "\n",
    "Process the motions scraped from the Shelby County Board of Education minutes, \n",
    "get a better understanding of them, and make a nicely-formatted table for delivery."
   ]
  },
  {
   "cell_type": "code",
   "execution_count": 1,
   "metadata": {},
   "outputs": [],
   "source": [
    "import re\n",
    "import pandas as pd"
   ]
  },
  {
   "cell_type": "code",
   "execution_count": 2,
   "metadata": {},
   "outputs": [],
   "source": [
    "motions = pd.read_csv('boe-motions.csv')"
   ]
  },
  {
   "cell_type": "code",
   "execution_count": 3,
   "metadata": {},
   "outputs": [],
   "source": [
    "# Extract sections of the motions\n",
    "motions['summary'] = motions.motion.str.extract(\n",
    "    \"(It [is ]{0,3}recommende?d [\\s\\S]*)\\n\\n?Motion by\",\n",
    "    flags=re.IGNORECASE).fillna('')\n",
    "motions['summary'] = motions['summary'].str.strip('\\n')\n",
    "motions['result'] = motions.motion.str.extract(\"Final Resolution: ([\\w ]*)\",\n",
    "                                               flags=re.IGNORECASE)\n",
    "\n",
    "motions['sponsor'] = motions.motion.str.extract(\"Motion by ([\\w ]*)\",\n",
    "                                                flags=re.IGNORECASE)\n",
    "motions['second'] = motions.motion.str.extract(\"second by ([\\w ]*)\",\n",
    "                                               flags=re.IGNORECASE)\n",
    "\n",
    "for vote in ('Affirmative', 'Negative', 'Not Present at Vote', 'Abstain'):\n",
    "    motions[vote.lower().replace(' ', '_')] = motions.motion.str.extract(\n",
    "        f\"{vote}: ([\\w ,]*)\", flags=re.IGNORECASE).fillna('')\n"
   ]
  },
  {
   "cell_type": "code",
   "execution_count": 4,
   "metadata": {},
   "outputs": [],
   "source": [
    "motions.date = pd.to_datetime(motions.date.str[:-6])\n",
    "motions.sort_values(by='date', inplace=True)"
   ]
  },
  {
   "cell_type": "code",
   "execution_count": 5,
   "metadata": {},
   "outputs": [
    {
     "data": {
      "text/plain": [
       "True     1562\n",
       "False     449\n",
       "dtype: int64"
      ]
     },
     "execution_count": 5,
     "metadata": {},
     "output_type": "execute_result"
    }
   ],
   "source": [
    "# Michelle McKissack is the mayoral candidate on this board\n",
    "with_michelle = (motions.affirmative + motions.negative +\n",
    "                 motions.abstain).str.contains('McKissack', case=False)\n",
    "with_michelle.value_counts()"
   ]
  },
  {
   "cell_type": "code",
   "execution_count": 6,
   "metadata": {},
   "outputs": [
    {
     "data": {
      "text/plain": [
       "False    1972\n",
       "True       39\n",
       "dtype: int64"
      ]
     },
     "execution_count": 6,
     "metadata": {},
     "output_type": "execute_result"
    }
   ],
   "source": [
    "# Only 39 of 2011, or ~2% of motions are contested\n",
    "contested = (motions.affirmative != '') & (motions.negative != '')\n",
    "motions['contested'] = contested\n",
    "contested.value_counts()"
   ]
  },
  {
   "cell_type": "code",
   "execution_count": 7,
   "metadata": {},
   "outputs": [
    {
     "data": {
      "text/plain": [
       "False    2011\n",
       "Name: abstain, dtype: int64"
      ]
     },
     "execution_count": 7,
     "metadata": {},
     "output_type": "execute_result"
    }
   ],
   "source": [
    "# Michelle never abstained\n",
    "motions.abstain.str.contains('McKissack', case=False).value_counts()"
   ]
  },
  {
   "cell_type": "code",
   "execution_count": 8,
   "metadata": {},
   "outputs": [
    {
     "data": {
      "text/plain": [
       "True     1541\n",
       "False      21\n",
       "Name: affirmative, dtype: int64"
      ]
     },
     "execution_count": 8,
     "metadata": {},
     "output_type": "execute_result"
    }
   ],
   "source": [
    "# How did Michelle vote?\n",
    "\n",
    "motions.loc[with_michelle, 'mckissack'] = [\n",
    "    'for' if 'McKissack' in row.affirmative else 'against'\n",
    "    for _, row in motions[with_michelle].iterrows()\n",
    "]\n",
    "motions['mckissack'].fillna('', inplace=True)\n",
    "motions[with_michelle].affirmative.str.contains('McKissack',\n",
    "                                                case=False).value_counts()"
   ]
  },
  {
   "cell_type": "code",
   "execution_count": 9,
   "metadata": {},
   "outputs": [
    {
     "data": {
      "text/plain": [
       "for        20\n",
       "against    11\n",
       "Name: mckissack, dtype: int64"
      ]
     },
     "execution_count": 9,
     "metadata": {},
     "output_type": "execute_result"
    }
   ],
   "source": [
    "motions[contested & with_michelle].mckissack.value_counts()"
   ]
  },
  {
   "cell_type": "code",
   "execution_count": 10,
   "metadata": {},
   "outputs": [
    {
     "data": {
      "text/html": [
       "<div>\n",
       "<style scoped>\n",
       "    .dataframe tbody tr th:only-of-type {\n",
       "        vertical-align: middle;\n",
       "    }\n",
       "\n",
       "    .dataframe tbody tr th {\n",
       "        vertical-align: top;\n",
       "    }\n",
       "\n",
       "    .dataframe thead th {\n",
       "        text-align: right;\n",
       "    }\n",
       "</style>\n",
       "<table border=\"1\" class=\"dataframe\">\n",
       "  <thead>\n",
       "    <tr style=\"text-align: right;\">\n",
       "      <th></th>\n",
       "      <th>date</th>\n",
       "      <th>meeting_title</th>\n",
       "      <th>action</th>\n",
       "      <th>motion</th>\n",
       "      <th>summary</th>\n",
       "      <th>result</th>\n",
       "      <th>sponsor</th>\n",
       "      <th>second</th>\n",
       "      <th>affirmative</th>\n",
       "      <th>negative</th>\n",
       "      <th>not_present_at_vote</th>\n",
       "      <th>abstain</th>\n",
       "      <th>contested</th>\n",
       "      <th>mckissack</th>\n",
       "    </tr>\n",
       "  </thead>\n",
       "  <tbody>\n",
       "    <tr>\n",
       "      <th>327</th>\n",
       "      <td>2018-01-30</td>\n",
       "      <td>January Board Business Meeting</td>\n",
       "      <td>11.2 Medicaid Reimbursement</td>\n",
       "      <td>It is recommended that the Shelby County Board...</td>\n",
       "      <td>It is recommended that the Shelby County Board...</td>\n",
       "      <td>Motion Passes</td>\n",
       "      <td>Shante Avant</td>\n",
       "      <td>Stephanie P Love</td>\n",
       "      <td>Shante Avant, Miska Clay Bibbs, Chris Caldwell...</td>\n",
       "      <td></td>\n",
       "      <td>Billy Orgel</td>\n",
       "      <td></td>\n",
       "      <td>False</td>\n",
       "      <td></td>\n",
       "    </tr>\n",
       "    <tr>\n",
       "      <th>323</th>\n",
       "      <td>2018-01-30</td>\n",
       "      <td>January Board Business Meeting</td>\n",
       "      <td>7.1 Approval of the Minutes of the December 5,...</td>\n",
       "      <td>It is recommended that the Shelby County Board...</td>\n",
       "      <td>It is recommended that the Shelby County Board...</td>\n",
       "      <td>Motion Passes</td>\n",
       "      <td>Scott McCormick</td>\n",
       "      <td>Chris Caldwell</td>\n",
       "      <td>Shante Avant, Miska Clay Bibbs, Chris Caldwell...</td>\n",
       "      <td></td>\n",
       "      <td>Stephanie P Love</td>\n",
       "      <td></td>\n",
       "      <td>False</td>\n",
       "      <td></td>\n",
       "    </tr>\n",
       "    <tr>\n",
       "      <th>324</th>\n",
       "      <td>2018-01-30</td>\n",
       "      <td>January Board Business Meeting</td>\n",
       "      <td>7.2 Approval of the Minutes of the January 23,...</td>\n",
       "      <td>It is recommended that the Shelby County Board...</td>\n",
       "      <td>It is recommended that the Shelby County Board...</td>\n",
       "      <td>Motion Passes</td>\n",
       "      <td>Scott McCormick</td>\n",
       "      <td>Chris Caldwell</td>\n",
       "      <td>Shante Avant, Miska Clay Bibbs, Chris Caldwell...</td>\n",
       "      <td></td>\n",
       "      <td>Stephanie P Love</td>\n",
       "      <td></td>\n",
       "      <td>False</td>\n",
       "      <td></td>\n",
       "    </tr>\n",
       "    <tr>\n",
       "      <th>325</th>\n",
       "      <td>2018-01-30</td>\n",
       "      <td>January Board Business Meeting</td>\n",
       "      <td>7.3 Approval of the Minutes of the December 13...</td>\n",
       "      <td>It is recommended that the Shelby County Board...</td>\n",
       "      <td>It is recommended that the Shelby County Board...</td>\n",
       "      <td>Motion Passes</td>\n",
       "      <td>Scott McCormick</td>\n",
       "      <td>Chris Caldwell</td>\n",
       "      <td>Shante Avant, Miska Clay Bibbs, Chris Caldwell...</td>\n",
       "      <td></td>\n",
       "      <td>Stephanie P Love</td>\n",
       "      <td></td>\n",
       "      <td>False</td>\n",
       "      <td></td>\n",
       "    </tr>\n",
       "    <tr>\n",
       "      <th>326</th>\n",
       "      <td>2018-01-30</td>\n",
       "      <td>January Board Business Meeting</td>\n",
       "      <td>11.1 Approval of Consent Agenda</td>\n",
       "      <td>It is recommended that the Shelby County Board...</td>\n",
       "      <td>It is recommended that the Shelby County Board...</td>\n",
       "      <td>Motion Passes</td>\n",
       "      <td>Shante Avant</td>\n",
       "      <td>Stephanie P Love</td>\n",
       "      <td>Shante Avant, Miska Clay Bibbs, Chris Caldwell...</td>\n",
       "      <td></td>\n",
       "      <td>Billy Orgel</td>\n",
       "      <td></td>\n",
       "      <td>False</td>\n",
       "      <td></td>\n",
       "    </tr>\n",
       "  </tbody>\n",
       "</table>\n",
       "</div>"
      ],
      "text/plain": [
       "          date                   meeting_title  \\\n",
       "327 2018-01-30  January Board Business Meeting   \n",
       "323 2018-01-30  January Board Business Meeting   \n",
       "324 2018-01-30  January Board Business Meeting   \n",
       "325 2018-01-30  January Board Business Meeting   \n",
       "326 2018-01-30  January Board Business Meeting   \n",
       "\n",
       "                                                action  \\\n",
       "327                        11.2 Medicaid Reimbursement   \n",
       "323  7.1 Approval of the Minutes of the December 5,...   \n",
       "324  7.2 Approval of the Minutes of the January 23,...   \n",
       "325  7.3 Approval of the Minutes of the December 13...   \n",
       "326                    11.1 Approval of Consent Agenda   \n",
       "\n",
       "                                                motion  \\\n",
       "327  It is recommended that the Shelby County Board...   \n",
       "323  It is recommended that the Shelby County Board...   \n",
       "324  It is recommended that the Shelby County Board...   \n",
       "325  It is recommended that the Shelby County Board...   \n",
       "326  It is recommended that the Shelby County Board...   \n",
       "\n",
       "                                               summary         result  \\\n",
       "327  It is recommended that the Shelby County Board...  Motion Passes   \n",
       "323  It is recommended that the Shelby County Board...  Motion Passes   \n",
       "324  It is recommended that the Shelby County Board...  Motion Passes   \n",
       "325  It is recommended that the Shelby County Board...  Motion Passes   \n",
       "326  It is recommended that the Shelby County Board...  Motion Passes   \n",
       "\n",
       "             sponsor            second  \\\n",
       "327     Shante Avant  Stephanie P Love   \n",
       "323  Scott McCormick    Chris Caldwell   \n",
       "324  Scott McCormick    Chris Caldwell   \n",
       "325  Scott McCormick    Chris Caldwell   \n",
       "326     Shante Avant  Stephanie P Love   \n",
       "\n",
       "                                           affirmative negative  \\\n",
       "327  Shante Avant, Miska Clay Bibbs, Chris Caldwell...            \n",
       "323  Shante Avant, Miska Clay Bibbs, Chris Caldwell...            \n",
       "324  Shante Avant, Miska Clay Bibbs, Chris Caldwell...            \n",
       "325  Shante Avant, Miska Clay Bibbs, Chris Caldwell...            \n",
       "326  Shante Avant, Miska Clay Bibbs, Chris Caldwell...            \n",
       "\n",
       "    not_present_at_vote abstain  contested mckissack  \n",
       "327         Billy Orgel              False            \n",
       "323    Stephanie P Love              False            \n",
       "324    Stephanie P Love              False            \n",
       "325    Stephanie P Love              False            \n",
       "326         Billy Orgel              False            "
      ]
     },
     "execution_count": 10,
     "metadata": {},
     "output_type": "execute_result"
    }
   ],
   "source": [
    "motions.head()"
   ]
  },
  {
   "cell_type": "code",
   "execution_count": 11,
   "metadata": {},
   "outputs": [],
   "source": [
    "motions.to_csv('boe-motions-processed.csv', index=False)"
   ]
  }
 ],
 "metadata": {
  "kernelspec": {
   "display_name": "Python 3",
   "language": "python",
   "name": "python3"
  },
  "language_info": {
   "codemirror_mode": {
    "name": "ipython",
    "version": 3
   },
   "file_extension": ".py",
   "mimetype": "text/x-python",
   "name": "python",
   "nbconvert_exporter": "python",
   "pygments_lexer": "ipython3",
   "version": "3.9.11"
  },
  "orig_nbformat": 4
 },
 "nbformat": 4,
 "nbformat_minor": 2
}
