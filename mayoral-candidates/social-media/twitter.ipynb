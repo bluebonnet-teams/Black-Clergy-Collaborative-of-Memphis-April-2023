{
 "cells": [
  {
   "cell_type": "code",
   "execution_count": null,
   "id": "69ce8841",
   "metadata": {
    "scrolled": false
   },
   "outputs": [],
   "source": [
    "import snscrape.modules.twitter as sntwitter"
   ]
  },
  {
   "cell_type": "code",
   "execution_count": null,
   "id": "ac39732a",
   "metadata": {
    "scrolled": true
   },
   "outputs": [],
   "source": [
    "# read in csv file with all candidates' twitter handles\n",
    "import pandas as pd\n",
    "df = pd.read_csv('candidates.csv')\n",
    "df"
   ]
  },
  {
   "cell_type": "code",
   "execution_count": null,
   "id": "c481c561",
   "metadata": {},
   "outputs": [],
   "source": [
    "tweets = pd.DataFrame(columns={'Candidate','Caption','Date','URL'})[['Candidate','Caption','Date','URL']]"
   ]
  },
  {
   "cell_type": "code",
   "execution_count": null,
   "id": "ca750c4c",
   "metadata": {
    "scrolled": true
   },
   "outputs": [],
   "source": [
    "for n in range(len(df)):\n",
    "    try:\n",
    "        username = df.iloc[n]['Twitter']\n",
    "        cand = df.iloc[n]['Name']\n",
    "        # if username is present\n",
    "        if '@' in username:\n",
    "            for i,tweet in enumerate(sntwitter.TwitterSearchScraper('since:2012-06-23 from:'+username).get_items()):\n",
    "                # omit short tweets (likely irrelevant to issues of interest)\n",
    "                if len(tweet.rawContent) > 10:\n",
    "                    # create each row of the dataframe, with the candidate, tweet, date, and url\n",
    "                    tweets.loc[len(tweets)] = [cand,tweet.rawContent,tweet.date,tweet.url] \n",
    "    except Exception as e:\n",
    "        print(e)"
   ]
  },
  {
   "cell_type": "code",
   "execution_count": null,
   "id": "0ff9f4ab",
   "metadata": {},
   "outputs": [],
   "source": [
    "tweets.to_csv('tweets.csv')"
   ]
  }
 ],
 "metadata": {
  "kernelspec": {
   "display_name": "Python 3 (ipykernel)",
   "language": "python",
   "name": "python3"
  },
  "language_info": {
   "codemirror_mode": {
    "name": "ipython",
    "version": 3
   },
   "file_extension": ".py",
   "mimetype": "text/x-python",
   "name": "python",
   "nbconvert_exporter": "python",
   "pygments_lexer": "ipython3",
   "version": "3.9.2"
  }
 },
 "nbformat": 4,
 "nbformat_minor": 5
}
