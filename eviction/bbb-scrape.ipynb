{
 "cells": [
  {
   "attachments": {},
   "cell_type": "markdown",
   "metadata": {},
   "source": [
    "# Scraping Complaints from the Better Business Bureau\n",
    "\n",
    "The goal of this notebook is to collect complaints about apartment complexes, expecially the top evictors, \n",
    "in Memphis from the Better Business Bureau.\n",
    "\n",
    "The BBB has an API but it's very limited:\n",
    "\n",
    "1. You need to contact them via email to get a key\n",
    "2. The API lets you search organizations, but does not let you pull complaints.\n",
    "\n",
    "As the latter is most of the work here, I'll be skipping the API.\n",
    "\n",
    "Scraping will be done with Selenium."
   ]
  },
  {
   "cell_type": "code",
   "execution_count": 1,
   "metadata": {},
   "outputs": [],
   "source": [
    "import os\n",
    "from dataclasses import dataclass\n",
    "from time import sleep\n",
    "\n",
    "import pandas as pd\n",
    "from selenium import webdriver\n",
    "from selenium.common.exceptions import (StaleElementReferenceException,\n",
    "                                        TimeoutException)\n",
    "from selenium.webdriver.common.keys import Keys\n",
    "from selenium.webdriver.chrome.options import Options\n",
    "from selenium.webdriver.common.by import By\n",
    "from selenium.webdriver.support import expected_conditions as EC\n",
    "from selenium.webdriver.support.ui import WebDriverWait\n",
    "from tqdm import tqdm, trange\n",
    "import re"
   ]
  },
  {
   "cell_type": "code",
   "execution_count": 2,
   "metadata": {},
   "outputs": [],
   "source": [
    "# My chromium driver isn't in PATH, for some reason\n",
    "\n",
    "os.environ['PATH'] += ':/opt/homebrew/bin'"
   ]
  },
  {
   "cell_type": "code",
   "execution_count": 3,
   "metadata": {},
   "outputs": [
    {
     "name": "stderr",
     "output_type": "stream",
     "text": [
      "/var/folders/w_/h74dflfj09b437rgp1kw0ykw0000gq/T/ipykernel_47257/2861412047.py:3: DeprecationWarning: headless property is deprecated, instead use add_argument('--headless') or add_argument('--headless=new')\n",
      "  options.headless = False\n"
     ]
    }
   ],
   "source": [
    "# Start a Selenium driver\n",
    "options = Options()\n",
    "options.headless = False\n",
    "options.add_argument(\"--window-size=1200,800\")\n",
    "\n",
    "driver = webdriver.Chrome(options=options)\n",
    "wait = WebDriverWait(driver, 4)"
   ]
  },
  {
   "attachments": {},
   "cell_type": "markdown",
   "metadata": {},
   "source": [
    "## Get a list of apartment complexes in Memphis"
   ]
  },
  {
   "cell_type": "code",
   "execution_count": 4,
   "metadata": {},
   "outputs": [],
   "source": [
    "@dataclass\n",
    "class Result:\n",
    "    name: str\n",
    "    categories: str\n",
    "    address: str\n",
    "    phone: str\n",
    "    rating: str\n",
    "    url: str"
   ]
  },
  {
   "cell_type": "code",
   "execution_count": 5,
   "metadata": {},
   "outputs": [],
   "source": [
    "from uszipcode import SearchEngine\n",
    "\n",
    "sr = SearchEngine()"
   ]
  },
  {
   "cell_type": "code",
   "execution_count": 6,
   "metadata": {},
   "outputs": [
    {
     "name": "stdout",
     "output_type": "stream",
     "text": [
      "38103\n"
     ]
    },
    {
     "name": "stderr",
     "output_type": "stream",
     "text": [
      " 93%|█████████▎| 14/15 [00:59<00:04,  4.26s/it]\n"
     ]
    },
    {
     "name": "stdout",
     "output_type": "stream",
     "text": [
      "last page\n",
      "38104\n"
     ]
    },
    {
     "name": "stderr",
     "output_type": "stream",
     "text": [
      " 93%|█████████▎| 14/15 [01:12<00:05,  5.15s/it]\n"
     ]
    },
    {
     "name": "stdout",
     "output_type": "stream",
     "text": [
      "last page\n",
      "38105\n"
     ]
    },
    {
     "name": "stderr",
     "output_type": "stream",
     "text": [
      " 93%|█████████▎| 14/15 [01:01<00:04,  4.41s/it]\n"
     ]
    },
    {
     "name": "stdout",
     "output_type": "stream",
     "text": [
      "last page\n",
      "38106\n"
     ]
    },
    {
     "name": "stderr",
     "output_type": "stream",
     "text": [
      " 93%|█████████▎| 14/15 [01:06<00:04,  4.77s/it]"
     ]
    },
    {
     "name": "stdout",
     "output_type": "stream",
     "text": [
      "last page\n",
      "38107\n"
     ]
    },
    {
     "name": "stderr",
     "output_type": "stream",
     "text": [
      "\n",
      " 93%|█████████▎| 14/15 [00:53<00:03,  3.82s/it]"
     ]
    },
    {
     "name": "stdout",
     "output_type": "stream",
     "text": [
      "last page\n"
     ]
    },
    {
     "name": "stderr",
     "output_type": "stream",
     "text": [
      "\n"
     ]
    }
   ],
   "source": [
    "results = []\n",
    "\n",
    "for sz in sr.by_city_and_state('Memphis', 'TN'):\n",
    "    print(sz.zipcode)\n",
    "    driver.get(\n",
    "        \"https://www.bbb.org/search?filter_state=TN&find_country=USA\"\n",
    "        f\"&find_entity=60042-000&find_id=60042-000&find_loc={sz.zipcode}\"\n",
    "        \"&find_text=Apartments&find_type=Category&page=1\")\n",
    "    # BBB shows up to 15 pages of apartments\n",
    "    for page in trange(15):\n",
    "        # for some reason, it likes to throw 502 errors\n",
    "        for backoff in (0.1, 0.5, 1, 2, 5, 10):  # so retry with backoff\n",
    "            if driver.title == '502 Bad Gateway':\n",
    "                sleep(2)\n",
    "                driver.refresh()\n",
    "            else:\n",
    "                break\n",
    "        else:\n",
    "            print('failed')\n",
    "            break\n",
    "\n",
    "        wait.until(\n",
    "            EC.visibility_of_element_located(\n",
    "                (By.CLASS_NAME, 'result-item-ab')))\n",
    "\n",
    "        # If there's a dialog that pops up, select \"All businesses\" and continue\n",
    "        for button in driver.find_elements(\n",
    "                By.XPATH, '/html/body/div[1]/dialog/form/div/button'):\n",
    "            try:\n",
    "                driver.find_element(\n",
    "                    By.XPATH,\n",
    "                    '/html/body/div[1]/dialog/form/fieldset/div[3]/div/input'\n",
    "                ).click()\n",
    "                button.click()\n",
    "            except:\n",
    "                continue\n",
    "\n",
    "        # Iterate through the items and pull out the relevant information\n",
    "        for result in driver.find_elements(By.CLASS_NAME, 'result-item-ab'):\n",
    "            title = result.find_element(By.CLASS_NAME, 'text-blue-medium')\n",
    "            sections = [\n",
    "                el.text\n",
    "                for el in result.find_elements(By.CLASS_NAME, 'bds-body')\n",
    "            ]\n",
    "            try:\n",
    "                categories, rating, phone, address = sections\n",
    "            except ValueError:  # not enough sections, probably no phone\n",
    "                categories, rating, address = sections\n",
    "                phone = None\n",
    "            results.append(\n",
    "                Result(\n",
    "                    name=title.text,\n",
    "                    categories=categories,\n",
    "                    address=address,\n",
    "                    phone=phone,\n",
    "                    rating=rating,\n",
    "                    url=title.get_property('href'),\n",
    "                ))\n",
    "        try:\n",
    "            next_button = driver.find_element(By.LINK_TEXT, 'Next')\n",
    "            driver.get(next_button.get_property('href'))\n",
    "        except:\n",
    "            print('last page')\n",
    "            break"
   ]
  },
  {
   "cell_type": "code",
   "execution_count": 13,
   "metadata": {},
   "outputs": [],
   "source": [
    "# pd.DataFrame(results).drop_duplicates().to_csv('bbb-results.csv', index=False)"
   ]
  },
  {
   "cell_type": "code",
   "execution_count": 5,
   "metadata": {},
   "outputs": [
    {
     "data": {
      "text/html": [
       "<div>\n",
       "<style scoped>\n",
       "    .dataframe tbody tr th:only-of-type {\n",
       "        vertical-align: middle;\n",
       "    }\n",
       "\n",
       "    .dataframe tbody tr th {\n",
       "        vertical-align: top;\n",
       "    }\n",
       "\n",
       "    .dataframe thead th {\n",
       "        text-align: right;\n",
       "    }\n",
       "</style>\n",
       "<table border=\"1\" class=\"dataframe\">\n",
       "  <thead>\n",
       "    <tr style=\"text-align: right;\">\n",
       "      <th></th>\n",
       "      <th>name</th>\n",
       "      <th>categories</th>\n",
       "      <th>address</th>\n",
       "      <th>phone</th>\n",
       "      <th>rating</th>\n",
       "      <th>url</th>\n",
       "    </tr>\n",
       "  </thead>\n",
       "  <tbody>\n",
       "    <tr>\n",
       "      <th>0</th>\n",
       "      <td>Indigo Riverview</td>\n",
       "      <td>Apartments</td>\n",
       "      <td>99 N Main St,\\nMemphis, TN 38103</td>\n",
       "      <td>NaN</td>\n",
       "      <td>BBB Rating: D+</td>\n",
       "      <td>https://www.bbb.org/us/tn/memphis/profile/apar...</td>\n",
       "    </tr>\n",
       "    <tr>\n",
       "      <th>1</th>\n",
       "      <td>99 Front Street</td>\n",
       "      <td>Property Management, Apartments, Real Estate C...</td>\n",
       "      <td>99 S Front St,\\nMemphis, TN 38103</td>\n",
       "      <td>(901) 767-6500</td>\n",
       "      <td>BBB Rating: A+</td>\n",
       "      <td>https://www.bbb.org/us/tn/memphis/profile/prop...</td>\n",
       "    </tr>\n",
       "    <tr>\n",
       "      <th>2</th>\n",
       "      <td>The Renaissance Apartments</td>\n",
       "      <td>Apartments</td>\n",
       "      <td>99 N Main St,\\nMemphis, TN 38103</td>\n",
       "      <td>(901) 527-8057</td>\n",
       "      <td>BBB Rating: B-</td>\n",
       "      <td>https://www.bbb.org/us/tn/memphis/profile/apar...</td>\n",
       "    </tr>\n",
       "    <tr>\n",
       "      <th>3</th>\n",
       "      <td>2nd Street Flats</td>\n",
       "      <td>Apartments</td>\n",
       "      <td>275 South Second Street,\\nMemphis, TN 38103</td>\n",
       "      <td>(901) 774-8000</td>\n",
       "      <td>BBB Rating: A+</td>\n",
       "      <td>https://www.bbb.org/us/tn/memphis/profile/apar...</td>\n",
       "    </tr>\n",
       "    <tr>\n",
       "      <th>4</th>\n",
       "      <td>Fogelman Properties, Inc.</td>\n",
       "      <td>Property Management, Apartments, Real Estate C...</td>\n",
       "      <td>495 Tennessee Street,\\nMemphis, TN 38103</td>\n",
       "      <td>(833) 706-9514</td>\n",
       "      <td>BBB Rating: A+</td>\n",
       "      <td>https://www.bbb.org/us/tn/memphis/profile/prop...</td>\n",
       "    </tr>\n",
       "    <tr>\n",
       "      <th>...</th>\n",
       "      <td>...</td>\n",
       "      <td>...</td>\n",
       "      <td>...</td>\n",
       "      <td>...</td>\n",
       "      <td>...</td>\n",
       "      <td>...</td>\n",
       "    </tr>\n",
       "    <tr>\n",
       "      <th>271</th>\n",
       "      <td>Tree Haven Glenn Apartments</td>\n",
       "      <td>Apartments</td>\n",
       "      <td>6075 Poplar Ave STE 630,\\nMemphis, TN 38119-4702</td>\n",
       "      <td>(256) 881-6201</td>\n",
       "      <td>BBB Rating: A+</td>\n",
       "      <td>https://www.bbb.org/us/al/huntsville/profile/a...</td>\n",
       "    </tr>\n",
       "    <tr>\n",
       "      <th>272</th>\n",
       "      <td>Courts at Waterford Place</td>\n",
       "      <td>Apartments</td>\n",
       "      <td>5545 Murray Ave 3rd FL,\\nMemphis, TN 38119</td>\n",
       "      <td>(901) 435-9300</td>\n",
       "      <td>BBB Rating: A-</td>\n",
       "      <td>https://www.bbb.org/us/tn/chattanooga/profile/...</td>\n",
       "    </tr>\n",
       "    <tr>\n",
       "      <th>273</th>\n",
       "      <td>Richard &amp; Milton Grant LLC</td>\n",
       "      <td>Apartments</td>\n",
       "      <td>7542 Legacy Drive,\\nMemphis, TN 38119</td>\n",
       "      <td>(901) 755-8480</td>\n",
       "      <td>BBB Rating: A+</td>\n",
       "      <td>https://www.bbb.org/us/tn/memphis/profile/apar...</td>\n",
       "    </tr>\n",
       "    <tr>\n",
       "      <th>274</th>\n",
       "      <td>Ridgeway Holdings LLC</td>\n",
       "      <td>Apartments</td>\n",
       "      <td>6033 Bangalore Ct,\\nMemphis, TN 38119-7200</td>\n",
       "      <td>(901) 767-1830</td>\n",
       "      <td>BBB Rating: F</td>\n",
       "      <td>https://www.bbb.org/us/tn/memphis/profile/apar...</td>\n",
       "    </tr>\n",
       "    <tr>\n",
       "      <th>275</th>\n",
       "      <td>Apartment Management Group, LLC</td>\n",
       "      <td>Apartments</td>\n",
       "      <td>5264 Poplar Ave,\\nMemphis, TN 38119</td>\n",
       "      <td>(901) 761-3333</td>\n",
       "      <td>BBB Rating: A+</td>\n",
       "      <td>https://www.bbb.org/us/tn/memphis/profile/apar...</td>\n",
       "    </tr>\n",
       "  </tbody>\n",
       "</table>\n",
       "<p>276 rows × 6 columns</p>\n",
       "</div>"
      ],
      "text/plain": [
       "                                name  \\\n",
       "0                   Indigo Riverview   \n",
       "1                    99 Front Street   \n",
       "2         The Renaissance Apartments   \n",
       "3                   2nd Street Flats   \n",
       "4          Fogelman Properties, Inc.   \n",
       "..                               ...   \n",
       "271      Tree Haven Glenn Apartments   \n",
       "272        Courts at Waterford Place   \n",
       "273       Richard & Milton Grant LLC   \n",
       "274            Ridgeway Holdings LLC   \n",
       "275  Apartment Management Group, LLC   \n",
       "\n",
       "                                            categories  \\\n",
       "0                                           Apartments   \n",
       "1    Property Management, Apartments, Real Estate C...   \n",
       "2                                           Apartments   \n",
       "3                                           Apartments   \n",
       "4    Property Management, Apartments, Real Estate C...   \n",
       "..                                                 ...   \n",
       "271                                         Apartments   \n",
       "272                                         Apartments   \n",
       "273                                         Apartments   \n",
       "274                                         Apartments   \n",
       "275                                         Apartments   \n",
       "\n",
       "                                              address           phone  \\\n",
       "0                    99 N Main St,\\nMemphis, TN 38103             NaN   \n",
       "1                   99 S Front St,\\nMemphis, TN 38103  (901) 767-6500   \n",
       "2                    99 N Main St,\\nMemphis, TN 38103  (901) 527-8057   \n",
       "3         275 South Second Street,\\nMemphis, TN 38103  (901) 774-8000   \n",
       "4            495 Tennessee Street,\\nMemphis, TN 38103  (833) 706-9514   \n",
       "..                                                ...             ...   \n",
       "271  6075 Poplar Ave STE 630,\\nMemphis, TN 38119-4702  (256) 881-6201   \n",
       "272        5545 Murray Ave 3rd FL,\\nMemphis, TN 38119  (901) 435-9300   \n",
       "273             7542 Legacy Drive,\\nMemphis, TN 38119  (901) 755-8480   \n",
       "274        6033 Bangalore Ct,\\nMemphis, TN 38119-7200  (901) 767-1830   \n",
       "275               5264 Poplar Ave,\\nMemphis, TN 38119  (901) 761-3333   \n",
       "\n",
       "             rating                                                url  \n",
       "0    BBB Rating: D+  https://www.bbb.org/us/tn/memphis/profile/apar...  \n",
       "1    BBB Rating: A+  https://www.bbb.org/us/tn/memphis/profile/prop...  \n",
       "2    BBB Rating: B-  https://www.bbb.org/us/tn/memphis/profile/apar...  \n",
       "3    BBB Rating: A+  https://www.bbb.org/us/tn/memphis/profile/apar...  \n",
       "4    BBB Rating: A+  https://www.bbb.org/us/tn/memphis/profile/prop...  \n",
       "..              ...                                                ...  \n",
       "271  BBB Rating: A+  https://www.bbb.org/us/al/huntsville/profile/a...  \n",
       "272  BBB Rating: A-  https://www.bbb.org/us/tn/chattanooga/profile/...  \n",
       "273  BBB Rating: A+  https://www.bbb.org/us/tn/memphis/profile/apar...  \n",
       "274   BBB Rating: F  https://www.bbb.org/us/tn/memphis/profile/apar...  \n",
       "275  BBB Rating: A+  https://www.bbb.org/us/tn/memphis/profile/apar...  \n",
       "\n",
       "[276 rows x 6 columns]"
      ]
     },
     "execution_count": 5,
     "metadata": {},
     "output_type": "execute_result"
    }
   ],
   "source": [
    "listings = pd.read_csv('bbb-results.csv')\n",
    "listings"
   ]
  },
  {
   "attachments": {},
   "cell_type": "markdown",
   "metadata": {},
   "source": [
    "## Read reviews of said apartment complexes"
   ]
  },
  {
   "cell_type": "code",
   "execution_count": 74,
   "metadata": {},
   "outputs": [],
   "source": [
    "@dataclass\n",
    "class Complaint:\n",
    "    complaint_type: str\n",
    "    complaint_id: str\n",
    "    status: str\n",
    "    date: str\n",
    "    description: str\n",
    "    text: str\n",
    "    url: str"
   ]
  },
  {
   "cell_type": "code",
   "execution_count": 78,
   "metadata": {},
   "outputs": [
    {
     "name": "stderr",
     "output_type": "stream",
     "text": [
      "100%|██████████| 276/276 [07:08<00:00,  1.55s/it]\n"
     ]
    }
   ],
   "source": [
    "complaints = []\n",
    "\n",
    "for url in tqdm(listings['url'].unique()):\n",
    "    driver.get(url + '/complaints')\n",
    "    while (1):\n",
    "        # Find each complaint group\n",
    "        for item in driver.find_elements(\n",
    "                By.XPATH,\n",
    "                '/html/body/div[1]/div/div/main/div[2]/div/div/div[1]/ul/li'):\n",
    "            # Each complaint starts with some info and the initial complaint\n",
    "            complaint_type = re.search('Complaint Type:\\n([^\\n]+)\\n',\n",
    "                                       item.text).groups()[0]\n",
    "            status = re.search('Status:\\n([^\\n]+)\\n', item.text).groups()[0]\n",
    "            complaint_id = item.find_element(\n",
    "                By.LINK_TEXT,\n",
    "                'Initial Complaint').get_attribute('href').split('#')[-1]\n",
    "\n",
    "            complaints.append(\n",
    "                Complaint(complaint_type=complaint_type,\n",
    "                          complaint_id=complaint_id,\n",
    "                          status=status,\n",
    "                          date=re.search('Initial Complaint\\n([^\\n]+)\\n',\n",
    "                                         item.text).groups()[0],\n",
    "                          description='Initial Complaint',\n",
    "                          text=re.search('More info\\n([^\\n]+)',\n",
    "                                         item.text).groups()[0],\n",
    "                          url=url))\n",
    "\n",
    "            # And then there are responses from the business and customer\n",
    "            groups = re.split(\n",
    "                '(Business|Customer) response\\n(\\d{2}\\/\\d{2}\\/\\d{4})\\n',\n",
    "                item.text)[1:]\n",
    "            assert len(groups) % 3 == 0\n",
    "            for responder, date, text in zip(groups[::3], groups[1::3],\n",
    "                                             groups[2::3]):\n",
    "                complaints.append(\n",
    "                    Complaint(complaint_type=complaint_type,\n",
    "                              complaint_id=complaint_id,\n",
    "                              status=status,\n",
    "                              date=date,\n",
    "                              description=f'{responder} response',\n",
    "                              text=text,\n",
    "                              url=url))\n",
    "\n",
    "        # Next page\n",
    "        try:\n",
    "            next_button = driver.find_element(By.LINK_TEXT, 'Next')\n",
    "            driver.get(next_button.get_property('href'))\n",
    "        except:\n",
    "            break  # last page"
   ]
  },
  {
   "cell_type": "code",
   "execution_count": 83,
   "metadata": {},
   "outputs": [
    {
     "data": {
      "text/plain": [
       "529"
      ]
     },
     "execution_count": 83,
     "metadata": {},
     "output_type": "execute_result"
    }
   ],
   "source": [
    "df = pd.DataFrame(complaints).drop_duplicates()\n",
    "df.complaint_id.nunique()"
   ]
  },
  {
   "cell_type": "code",
   "execution_count": 86,
   "metadata": {},
   "outputs": [],
   "source": [
    "df.to_csv('bbb-complaints.csv', index=False)"
   ]
  },
  {
   "cell_type": "code",
   "execution_count": 2,
   "metadata": {},
   "outputs": [
    {
     "data": {
      "text/html": [
       "<div>\n",
       "<style scoped>\n",
       "    .dataframe tbody tr th:only-of-type {\n",
       "        vertical-align: middle;\n",
       "    }\n",
       "\n",
       "    .dataframe tbody tr th {\n",
       "        vertical-align: top;\n",
       "    }\n",
       "\n",
       "    .dataframe thead th {\n",
       "        text-align: right;\n",
       "    }\n",
       "</style>\n",
       "<table border=\"1\" class=\"dataframe\">\n",
       "  <thead>\n",
       "    <tr style=\"text-align: right;\">\n",
       "      <th></th>\n",
       "      <th>complaint_type</th>\n",
       "      <th>complaint_id</th>\n",
       "      <th>status</th>\n",
       "      <th>date</th>\n",
       "      <th>description</th>\n",
       "      <th>text</th>\n",
       "      <th>url</th>\n",
       "    </tr>\n",
       "  </thead>\n",
       "  <tbody>\n",
       "    <tr>\n",
       "      <th>0</th>\n",
       "      <td>Problems with Product/Service</td>\n",
       "      <td>1504025924</td>\n",
       "      <td>Unanswered</td>\n",
       "      <td>03/21/2023</td>\n",
       "      <td>Initial Complaint</td>\n",
       "      <td>I moved out of this building (now Indigo River...</td>\n",
       "      <td>https://www.bbb.org/us/tn/memphis/profile/apar...</td>\n",
       "    </tr>\n",
       "    <tr>\n",
       "      <th>1</th>\n",
       "      <td>Problems with Product/Service</td>\n",
       "      <td>1590525145</td>\n",
       "      <td>Answered</td>\n",
       "      <td>04/04/2023</td>\n",
       "      <td>Initial Complaint</td>\n",
       "      <td>This business removes autopay from resident po...</td>\n",
       "      <td>https://www.bbb.org/us/tn/memphis/profile/prop...</td>\n",
       "    </tr>\n",
       "    <tr>\n",
       "      <th>2</th>\n",
       "      <td>Problems with Product/Service</td>\n",
       "      <td>1590525145</td>\n",
       "      <td>Answered</td>\n",
       "      <td>04/05/2023</td>\n",
       "      <td>Business response</td>\n",
       "      <td>The resident payment portal is set up and cont...</td>\n",
       "      <td>https://www.bbb.org/us/tn/memphis/profile/prop...</td>\n",
       "    </tr>\n",
       "    <tr>\n",
       "      <th>3</th>\n",
       "      <td>Problems with Product/Service</td>\n",
       "      <td>1590525145</td>\n",
       "      <td>Answered</td>\n",
       "      <td>04/05/2023</td>\n",
       "      <td>Customer response</td>\n",
       "      <td>\\nComplaint: 19895253\\n\\nI am rejecting this ...</td>\n",
       "      <td>https://www.bbb.org/us/tn/memphis/profile/prop...</td>\n",
       "    </tr>\n",
       "    <tr>\n",
       "      <th>4</th>\n",
       "      <td>Problems with Product/Service</td>\n",
       "      <td>1590525145</td>\n",
       "      <td>Answered</td>\n",
       "      <td>04/17/2023</td>\n",
       "      <td>Business response</td>\n",
       "      <td>The resident keeps referencing the amount of h...</td>\n",
       "      <td>https://www.bbb.org/us/tn/memphis/profile/prop...</td>\n",
       "    </tr>\n",
       "    <tr>\n",
       "      <th>...</th>\n",
       "      <td>...</td>\n",
       "      <td>...</td>\n",
       "      <td>...</td>\n",
       "      <td>...</td>\n",
       "      <td>...</td>\n",
       "      <td>...</td>\n",
       "      <td>...</td>\n",
       "    </tr>\n",
       "    <tr>\n",
       "      <th>1184</th>\n",
       "      <td>Advertising/Sales Issues</td>\n",
       "      <td>1424905505</td>\n",
       "      <td>Resolved</td>\n",
       "      <td>11/16/2020</td>\n",
       "      <td>Initial Complaint</td>\n",
       "      <td>After vacating the apartment, the final balanc...</td>\n",
       "      <td>https://www.bbb.org/us/tn/chattanooga/profile/...</td>\n",
       "    </tr>\n",
       "    <tr>\n",
       "      <th>1185</th>\n",
       "      <td>Advertising/Sales Issues</td>\n",
       "      <td>1424905505</td>\n",
       "      <td>Resolved</td>\n",
       "      <td>12/02/2020</td>\n",
       "      <td>Business response</td>\n",
       "      <td>Business Response /* (1000, 5, 2020/11/16) */ ...</td>\n",
       "      <td>https://www.bbb.org/us/tn/chattanooga/profile/...</td>\n",
       "    </tr>\n",
       "    <tr>\n",
       "      <th>1186</th>\n",
       "      <td>Problems with Product/Service</td>\n",
       "      <td>1304387016</td>\n",
       "      <td>Unanswered</td>\n",
       "      <td>08/03/2022</td>\n",
       "      <td>Initial Complaint</td>\n",
       "      <td>I recently applied for the town home apartment...</td>\n",
       "      <td>https://www.bbb.org/us/tn/memphis/profile/apar...</td>\n",
       "    </tr>\n",
       "    <tr>\n",
       "      <th>1187</th>\n",
       "      <td>Advertising/Sales Issues</td>\n",
       "      <td>1304387015</td>\n",
       "      <td>Unanswered</td>\n",
       "      <td>04/09/2021</td>\n",
       "      <td>Initial Complaint</td>\n",
       "      <td>These apartments refuse to fix anything, I hav...</td>\n",
       "      <td>https://www.bbb.org/us/tn/memphis/profile/apar...</td>\n",
       "    </tr>\n",
       "    <tr>\n",
       "      <th>1188</th>\n",
       "      <td>Billing/Collection Issues</td>\n",
       "      <td>1304387014</td>\n",
       "      <td>Unanswered</td>\n",
       "      <td>10/05/2020</td>\n",
       "      <td>Initial Complaint</td>\n",
       "      <td>Still haven't properly been help ...carpet sti...</td>\n",
       "      <td>https://www.bbb.org/us/tn/memphis/profile/apar...</td>\n",
       "    </tr>\n",
       "  </tbody>\n",
       "</table>\n",
       "<p>1189 rows × 7 columns</p>\n",
       "</div>"
      ],
      "text/plain": [
       "                     complaint_type  complaint_id      status        date  \\\n",
       "0     Problems with Product/Service    1504025924  Unanswered  03/21/2023   \n",
       "1     Problems with Product/Service    1590525145    Answered  04/04/2023   \n",
       "2     Problems with Product/Service    1590525145    Answered  04/05/2023   \n",
       "3     Problems with Product/Service    1590525145    Answered  04/05/2023   \n",
       "4     Problems with Product/Service    1590525145    Answered  04/17/2023   \n",
       "...                             ...           ...         ...         ...   \n",
       "1184       Advertising/Sales Issues    1424905505    Resolved  11/16/2020   \n",
       "1185       Advertising/Sales Issues    1424905505    Resolved  12/02/2020   \n",
       "1186  Problems with Product/Service    1304387016  Unanswered  08/03/2022   \n",
       "1187       Advertising/Sales Issues    1304387015  Unanswered  04/09/2021   \n",
       "1188      Billing/Collection Issues    1304387014  Unanswered  10/05/2020   \n",
       "\n",
       "            description                                               text  \\\n",
       "0     Initial Complaint  I moved out of this building (now Indigo River...   \n",
       "1     Initial Complaint  This business removes autopay from resident po...   \n",
       "2     Business response  The resident payment portal is set up and cont...   \n",
       "3     Customer response   \\nComplaint: 19895253\\n\\nI am rejecting this ...   \n",
       "4     Business response  The resident keeps referencing the amount of h...   \n",
       "...                 ...                                                ...   \n",
       "1184  Initial Complaint  After vacating the apartment, the final balanc...   \n",
       "1185  Business response  Business Response /* (1000, 5, 2020/11/16) */ ...   \n",
       "1186  Initial Complaint  I recently applied for the town home apartment...   \n",
       "1187  Initial Complaint  These apartments refuse to fix anything, I hav...   \n",
       "1188  Initial Complaint  Still haven't properly been help ...carpet sti...   \n",
       "\n",
       "                                                    url  \n",
       "0     https://www.bbb.org/us/tn/memphis/profile/apar...  \n",
       "1     https://www.bbb.org/us/tn/memphis/profile/prop...  \n",
       "2     https://www.bbb.org/us/tn/memphis/profile/prop...  \n",
       "3     https://www.bbb.org/us/tn/memphis/profile/prop...  \n",
       "4     https://www.bbb.org/us/tn/memphis/profile/prop...  \n",
       "...                                                 ...  \n",
       "1184  https://www.bbb.org/us/tn/chattanooga/profile/...  \n",
       "1185  https://www.bbb.org/us/tn/chattanooga/profile/...  \n",
       "1186  https://www.bbb.org/us/tn/memphis/profile/apar...  \n",
       "1187  https://www.bbb.org/us/tn/memphis/profile/apar...  \n",
       "1188  https://www.bbb.org/us/tn/memphis/profile/apar...  \n",
       "\n",
       "[1189 rows x 7 columns]"
      ]
     },
     "execution_count": 2,
     "metadata": {},
     "output_type": "execute_result"
    }
   ],
   "source": [
    "import pandas as pd\n",
    "\n",
    "pd.read_csv('bbb-complaints.csv')"
   ]
  },
  {
   "cell_type": "code",
   "execution_count": null,
   "metadata": {},
   "outputs": [],
   "source": []
  }
 ],
 "metadata": {
  "kernelspec": {
   "display_name": "Python 3",
   "language": "python",
   "name": "python3"
  },
  "language_info": {
   "codemirror_mode": {
    "name": "ipython",
    "version": 3
   },
   "file_extension": ".py",
   "mimetype": "text/x-python",
   "name": "python",
   "nbconvert_exporter": "python",
   "pygments_lexer": "ipython3",
   "version": "3.9.11"
  },
  "orig_nbformat": 4
 },
 "nbformat": 4,
 "nbformat_minor": 2
}
