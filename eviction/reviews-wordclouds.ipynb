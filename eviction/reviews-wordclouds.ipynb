{
 "cells": [
  {
   "cell_type": "code",
   "execution_count": 1,
   "id": "772328dd",
   "metadata": {},
   "outputs": [
    {
     "name": "stderr",
     "output_type": "stream",
     "text": [
      "[nltk_data] Downloading package punkt to\n",
      "[nltk_data]     /Users/shreeyachand/nltk_data...\n",
      "[nltk_data]   Package punkt is already up-to-date!\n"
     ]
    },
    {
     "data": {
      "text/plain": [
       "True"
      ]
     },
     "execution_count": 1,
     "metadata": {},
     "output_type": "execute_result"
    }
   ],
   "source": [
    "import nltk\n",
    "from nltk import word_tokenize\n",
    "from matplotlib import pyplot as plt\n",
    "from wordcloud import WordCloud\n",
    "nltk.download('punkt')"
   ]
  },
  {
   "cell_type": "code",
   "execution_count": 2,
   "id": "57df2ca3",
   "metadata": {},
   "outputs": [],
   "source": [
    "import pandas as pd\n",
    "import datetime"
   ]
  },
  {
   "cell_type": "code",
   "execution_count": 9,
   "id": "1d3a8bed",
   "metadata": {},
   "outputs": [],
   "source": [
    "urls = [\n",
    "    'https://www.bbb.org/us/tn/memphis/profile/apartments/the-residences-at-lakeview-0543-44158002',\n",
    "    'https://www.bbb.org/us/tn/memphis/profile/apartments/mill-creek-apartments-0543-44074598',\n",
    "    'https://www.bbb.org/us/tn/germantown/profile/property-management/maa-0543-31000112',\n",
    "    'https://www.bbb.org/us/tn/memphis/profile/apartments/the-trails-at-mt-moriah-0543-44120390',\n",
    "    'https://www.bbb.org/us/tn/memphis/profile/apartments/winchester-grove-apartments-0543-44141723'\n",
    "]"
   ]
  },
  {
   "cell_type": "code",
   "execution_count": 8,
   "id": "e485a352",
   "metadata": {},
   "outputs": [],
   "source": [
    "def get_df(u):\n",
    "    return u.split('-0543')[0].split('/')[-1]"
   ]
  },
  {
   "cell_type": "code",
   "execution_count": 23,
   "id": "c0acf1fa",
   "metadata": {},
   "outputs": [],
   "source": [
    "xls = pd.ExcelFile('bbb-complaints-clean.xlsx')\n",
    "dfs = []\n",
    "for x in map(get_df, urls):\n",
    "    dfs.append((x, pd.read_excel(xls, x)))\n",
    "    \n",
    "dfs.append(('other', pd.read_excel(xls, 'other')))"
   ]
  },
  {
   "cell_type": "code",
   "execution_count": 24,
   "id": "ede356a4",
   "metadata": {},
   "outputs": [
    {
     "name": "stderr",
     "output_type": "stream",
     "text": [
      "[nltk_data] Downloading package stopwords to\n",
      "[nltk_data]     /Users/shreeyachand/nltk_data...\n",
      "[nltk_data]   Package stopwords is already up-to-date!\n"
     ]
    }
   ],
   "source": [
    "nltk.download(\"stopwords\")\n",
    "from nltk.corpus import stopwords\n",
    "stopwords_list = stopwords.words(\"english\")"
   ]
  },
  {
   "cell_type": "code",
   "execution_count": 25,
   "id": "2289e0cb",
   "metadata": {},
   "outputs": [],
   "source": [
    "# create a large list of stopwords from multiple sources to omit from word clouds\n",
    "stop = []\n",
    "with open('stopwords.txt') as f:\n",
    "    lines = f.readlines()\n",
    "    for line in lines:\n",
    "        word = line.strip('\\n')\n",
    "        if word not in stopwords_list and word not in stop:\n",
    "            stop.append(word)\n",
    "    \n",
    "with open('stopwords-en.txt') as f:\n",
    "    lines = f.readlines()\n",
    "    for line in lines:\n",
    "        word = line.strip('\\n')\n",
    "        if word not in stopwords_list and word not in stop:\n",
    "            stop.append(word)\n",
    "stopwords_list.extend(stop)"
   ]
  },
  {
   "cell_type": "code",
   "execution_count": 27,
   "id": "1136861a",
   "metadata": {},
   "outputs": [],
   "source": [
    "for owner in dfs:\n",
    "    caps = \"\"\n",
    "    py = owner[1]\n",
    "    for row in py['text']:\n",
    "        caps += row + ' '\n",
    "        caps = caps.encode('utf-8').decode('utf-8')\n",
    "        words = word_tokenize(caps)\n",
    "        words_no_punc = []\n",
    "    for word in words:\n",
    "        if word.isalpha():\n",
    "            words_no_punc.append(word.lower())\n",
    "    clean_words = []\n",
    "    for word in words_no_punc:\n",
    "        if word not in stopwords_list:\n",
    "            clean_words.append(word)\n",
    "            clean_words_string = \" \".join(clean_words)\n",
    "    wordcloud = WordCloud(width=800, height=400).generate(clean_words_string)\n",
    "    wordcloud.to_file(owner[0]+'-bbb-wordcloud.png')"
   ]
  },
  {
   "cell_type": "code",
   "execution_count": 28,
   "id": "d0ddf477",
   "metadata": {},
   "outputs": [],
   "source": [
    "google = pd.read_excel('google_review_data_full.xlsx',index_col=0)"
   ]
  },
  {
   "cell_type": "code",
   "execution_count": 49,
   "id": "09ddf37d",
   "metadata": {},
   "outputs": [
    {
     "data": {
      "text/plain": [
       "['THE TRAILS AT MT MORIAH',\n",
       " 'THE VIEW AT SHELBY FARM',\n",
       " 'KENSINGTON MANOR APARTMENTS',\n",
       " 'LINCOLN ON THE GREEN',\n",
       " 'WINCHESTER GROVE APARTMENTS',\n",
       " 'UNIVERSITY GARDENS MANOR',\n",
       " 'THE PARK AT NEW CASTLE',\n",
       " 'MILLCREEK APTS., LP',\n",
       " 'The Residences at Lakeview']"
      ]
     },
     "execution_count": 49,
     "metadata": {},
     "output_type": "execute_result"
    }
   ],
   "source": [
    "landlords = list(set(google['name_of_landlord']))\n",
    "landlords"
   ]
  },
  {
   "cell_type": "code",
   "execution_count": 58,
   "id": "86d149b8",
   "metadata": {},
   "outputs": [],
   "source": [
    "for ll in landlords:\n",
    "    caps = \"\"\n",
    "    py = google[google['name_of_landlord'] == ll]\n",
    "    py = py[py['text_of_review'] != 'No text review found']\n",
    "    ll = '-'.join(i for i in list(map(lambda x: x.strip('., lp'), ll.lower().split(' '))) if i != '')\n",
    "    for row in py['text_of_review']:\n",
    "        caps += str(row) + ' '\n",
    "        caps = caps.encode('utf-8').decode('utf-8')\n",
    "        words = word_tokenize(caps)\n",
    "        words_no_punc = []\n",
    "    for word in words:\n",
    "        if word.isalpha():\n",
    "            words_no_punc.append(word.lower())\n",
    "    clean_words = []\n",
    "    for word in words_no_punc:\n",
    "        if word not in stopwords_list:\n",
    "            clean_words.append(word)\n",
    "            clean_words_string = \" \".join(clean_words)\n",
    "    wordcloud = WordCloud(width=800, height=400).generate(clean_words_string)\n",
    "    wordcloud.to_file(ll+'-google-wordcloud.png')"
   ]
  },
  {
   "cell_type": "code",
   "execution_count": null,
   "id": "154fb44d",
   "metadata": {},
   "outputs": [],
   "source": []
  }
 ],
 "metadata": {
  "kernelspec": {
   "display_name": "Python 3 (ipykernel)",
   "language": "python",
   "name": "python3"
  },
  "language_info": {
   "codemirror_mode": {
    "name": "ipython",
    "version": 3
   },
   "file_extension": ".py",
   "mimetype": "text/x-python",
   "name": "python",
   "nbconvert_exporter": "python",
   "pygments_lexer": "ipython3",
   "version": "3.9.2"
  }
 },
 "nbformat": 4,
 "nbformat_minor": 5
}
